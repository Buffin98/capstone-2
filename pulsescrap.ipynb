{
 "cells": [
  {
   "cell_type": "code",
   "execution_count": 37,
   "metadata": {},
   "outputs": [],
   "source": [
    "import pandas as pd\n",
    "import json\n",
    "import os"
   ]
  },
  {
   "cell_type": "code",
   "execution_count": null,
   "metadata": {},
   "outputs": [],
   "source": [
    "# cloning data from github\n",
    "#os.environ[\"GIT_PYTHON_REFRESH\"] = \"quiet\"\n",
    "#import git\n",
    "#from git.repo.base import Repo\n",
    "#Repo.clone_from(\"https://github.com/PhonePe/pulse.git\", \"C:/capstone/Phonepe/pulse\")"
   ]
  },
  {
   "cell_type": "code",
   "execution_count": null,
   "metadata": {},
   "outputs": [],
   "source": [
    "# Data Extraction\n",
    "# DataFrame of Aggregated Transactions\n",
    "path1=\"C:/capstone/Phonepe/pulse/data/aggregated/transaction/country/india/state/\"\n",
    "agg_trans_list = os.listdir(path1)\n",
    "\n",
    "column1 = {'State': [], 'Year': [], 'Quarter': [], 'Transaction_type': [], 'Transaction_count': [],\n",
    "            'Transaction_amount': []}\n",
    "for state in agg_trans_list:\n",
    "    p_state = path1 + state + \"/\"\n",
    "    agg_year_list = os.listdir(p_state)\n",
    "\n",
    "    for year in agg_year_list:\n",
    "        p_year = p_state + year + \"/\"\n",
    "        agg_file_list = os.listdir(p_year)\n",
    "\n",
    "        for file in agg_file_list:\n",
    "            p_file = p_year + file\n",
    "            data = open(p_file, 'r')\n",
    "            A = json.load(data)\n",
    "\n",
    "            for i in A['data']['transactionData']:\n",
    "                Name   = i['name']\n",
    "                Count  = i['paymentInstruments'][0]['count']\n",
    "                Amount = i['paymentInstruments'][0]['amount']\n",
    "                column1['Transaction_type'].append(Name)\n",
    "                column1['Transaction_count'].append(Count)\n",
    "                column1['Transaction_amount'].append(Amount)\n",
    "                column1['State'].append(state)\n",
    "                column1['Year'].append(year)\n",
    "                column1['Quarter'].append(int(file.strip('.json')))\n",
    "\n",
    "df_Agg_Trans=pd.DataFrame(column1)"
   ]
  },
  {
   "cell_type": "code",
   "execution_count": null,
   "metadata": {},
   "outputs": [],
   "source": [
    "df_Agg_Trans"
   ]
  },
  {
   "cell_type": "code",
   "execution_count": null,
   "metadata": {},
   "outputs": [],
   "source": [
    "# DataFrame of Aggregated User\n",
    "path2=\"C:/capstone/Phonepe/pulse/data/aggregated/user/country/india/state/\"\n",
    "agg_user_list = os.listdir(path2)\n",
    "\n",
    "column2 = {'State': [], 'Year': [], 'Quarter': [], 'Brands': [], 'Count': [],\n",
    "            'Percentage': []}\n",
    "for state in agg_user_list:\n",
    "    p_state = path2 + state + \"/\"\n",
    "    agg_year_list = os.listdir(p_state)\n",
    "\n",
    "    for year in agg_year_list:\n",
    "        p_year = p_state + year + \"/\"\n",
    "        agg_file_list = os.listdir(p_year)\n",
    "\n",
    "        for file in agg_file_list:\n",
    "            p_file = p_year + file\n",
    "            data = open(p_file, 'r')\n",
    "            B = json.load(data)\n",
    "            try:\n",
    "              for i in B['data']['usersByDevice']:\n",
    "                  brand_name = i['brand']\n",
    "                  counts     = i['count']\n",
    "                  percents   = i['percentage']\n",
    "                  column2['Brands'].append(brand_name)\n",
    "                  column2['Count'].append(counts)\n",
    "                  column2['Percentage'].append(percents)\n",
    "                  column2['State'].append(state)\n",
    "                  column2['Year'].append(year)\n",
    "                  column2['Quarter'].append(int(file.strip('.json')))\n",
    "            except:\n",
    "              pass\n",
    "\n",
    "df_Agg_User =pd.DataFrame(column2)\n"
   ]
  },
  {
   "cell_type": "code",
   "execution_count": null,
   "metadata": {},
   "outputs": [],
   "source": [
    "df_Agg_User"
   ]
  },
  {
   "cell_type": "code",
   "execution_count": null,
   "metadata": {},
   "outputs": [],
   "source": [
    "# DataFrame of Map Transaction\n",
    "path3=\"C:/capstone/Phonepe/pulse/data/map/transaction/hover/country/india/state/\"\n",
    "map_trans_list=os.listdir(path3)\n",
    "\n",
    "column3={'State': [], 'Year': [], 'Quarter': [], 'District': [], 'Count': [],\n",
    "            'Amount': []}\n",
    "for state in map_trans_list:\n",
    "    p_state = path3 + state + \"/\"\n",
    "    map_year_list = os.listdir(p_state)\n",
    "\n",
    "    for year in map_year_list:\n",
    "        p_year = p_state + year + \"/\"\n",
    "        map_file_list = os.listdir(p_year)\n",
    "\n",
    "        for file in map_file_list:\n",
    "            p_file = p_year + file\n",
    "            data = open(p_file, 'r')\n",
    "            C = json.load(data)\n",
    "\n",
    "            for i in C['data']['hoverDataList']:\n",
    "                district  = i['name']\n",
    "                count     = i['metric'][0]['count']\n",
    "                amount    = i['metric'][0]['amount']\n",
    "                column3['District'].append(district)\n",
    "                column3['Count'].append(count)\n",
    "                column3['Amount'].append(amount)\n",
    "                column3['State'].append(state)\n",
    "                column3['Year'].append(year)\n",
    "                column3['Quarter'].append(int(file.strip('.json')))\n",
    "\n",
    "df_Map_Trans=pd.DataFrame(column3)"
   ]
  },
  {
   "cell_type": "code",
   "execution_count": null,
   "metadata": {},
   "outputs": [],
   "source": [
    "df_Map_Trans"
   ]
  },
  {
   "cell_type": "code",
   "execution_count": null,
   "metadata": {},
   "outputs": [],
   "source": [
    "# DataFrame of Map User\n",
    "path4=\"C:/capstone/Phonepe/pulse/data/map/user/hover/country/india/state/\"\n",
    "map_user_list=os.listdir(path4)\n",
    "\n",
    "column4={'State':[],'Year':[],'Quarter':[],'District': [],\n",
    "            'RegisteredUser': [], 'AppOpens': []}\n",
    "for state in map_user_list:\n",
    "    p_state = path4 + state + \"/\"\n",
    "    map_year_list = os.listdir(p_state)\n",
    "\n",
    "    for year in map_year_list:\n",
    "        p_year = p_state + year + \"/\"\n",
    "        map_file_list = os.listdir(p_year)\n",
    "\n",
    "        for file in map_file_list:\n",
    "            p_file = p_year + file\n",
    "            data = open(p_file, 'r')\n",
    "            D = json.load(data)\n",
    "          \n",
    "            for i in D['data']['hoverData'].items():\n",
    "                district       = i[0]\n",
    "                registeredusers= i[1]['registeredUsers']\n",
    "                appOpens       = i[1]['appOpens']\n",
    "                column4['District'].append(district)\n",
    "                column4['RegisteredUser'].append(registeredusers)\n",
    "                column4['AppOpens'].append(appOpens)\n",
    "                column4['State'].append(state)\n",
    "                column4['Year'].append(year)\n",
    "                column4['Quarter'].append(int(file.strip('.json')))\n",
    "\n",
    "df_Map_User=pd.DataFrame(column4)\n"
   ]
  },
  {
   "cell_type": "code",
   "execution_count": null,
   "metadata": {},
   "outputs": [],
   "source": [
    "df_Map_User"
   ]
  },
  {
   "cell_type": "code",
   "execution_count": null,
   "metadata": {},
   "outputs": [],
   "source": [
    "# DataFrame of Top Transaction\n",
    "path5=\"C:/capstone/Phonepe/pulse/data/top/transaction/country/india/state/\"\n",
    "top_trans_list=os.listdir(path5)\n",
    "\n",
    "column5 = {'State': [], 'Year': [], 'Quarter': [], 'Pincode': [], 'Transaction_count': [],\n",
    "            'Transaction_amount': []}\n",
    "for state in top_trans_list:\n",
    "    p_state = path5 + state + \"/\"\n",
    "    top_year_list = os.listdir(p_state)\n",
    "\n",
    "    for year in top_year_list:\n",
    "        p_year = p_state + year + \"/\"\n",
    "        top_file_list = os.listdir(p_year)\n",
    "\n",
    "        for file in top_file_list:\n",
    "            p_file = p_year + file\n",
    "            data = open(p_file, 'r')\n",
    "            E = json.load(data)\n",
    "\n",
    "            for i in E['data']['pincodes']:\n",
    "                name = i['entityName']\n",
    "                count = i['metric']['count']\n",
    "                amount = i['metric']['amount']\n",
    "                column5['Pincode'].append(name)\n",
    "                column5['Transaction_count'].append(count)\n",
    "                column5['Transaction_amount'].append(amount)\n",
    "                column5['State'].append(state)\n",
    "                column5['Year'].append(year)\n",
    "                column5['Quarter'].append(int(file.strip('.json')))\n",
    "                \n",
    "df_Top_Trans=pd.DataFrame(column5)"
   ]
  },
  {
   "cell_type": "code",
   "execution_count": null,
   "metadata": {},
   "outputs": [],
   "source": [
    "df_Top_Trans"
   ]
  },
  {
   "cell_type": "code",
   "execution_count": null,
   "metadata": {},
   "outputs": [],
   "source": [
    "#DataFrame of Top User\n",
    "path6=\"C:/capstone/Phonepe/pulse/data/top/user/country/india/state/\"\n",
    "top_user_list=os.listdir(path6)\n",
    "\n",
    "column6 = {'State': [], 'Year': [], 'Quarter': [], 'Pincode': [],\n",
    "            'RegisteredUsers': []}\n",
    "\n",
    "for state in top_user_list:\n",
    "    p_state = path6 + state + \"/\"\n",
    "    top_year_list = os.listdir(p_state)\n",
    "\n",
    "    for year in top_year_list:                    \n",
    "        p_year = p_state + year + \"/\"\n",
    "        top_file_list = os.listdir(p_year)\n",
    "\n",
    "        for file in top_file_list:\n",
    "            p_file = p_year + file\n",
    "            data = open(p_file, 'r')\n",
    "            F = json.load(data)\n",
    "\n",
    "            for i in F['data']['pincodes']:\n",
    "                name = i['name']\n",
    "                registeredUsers = i['registeredUsers']\n",
    "                column6['Pincode'].append(name)\n",
    "                column6['RegisteredUsers'].append(registeredUsers)\n",
    "                column6['State'].append(state)\n",
    "                column6['Year'].append(year)\n",
    "                column6['Quarter'].append(int(file.strip('.json')))\n",
    "                \n",
    "df_Top_User = pd.DataFrame(column6)"
   ]
  },
  {
   "cell_type": "code",
   "execution_count": null,
   "metadata": {},
   "outputs": [],
   "source": [
    "df_Top_User"
   ]
  },
  {
   "cell_type": "code",
   "execution_count": null,
   "metadata": {},
   "outputs": [],
   "source": [
    "# Coverting Data frames to csv files\n",
    "df_Agg_Trans.to_csv('Agg_Trans.csv',index=False)\n",
    "df_Agg_User.to_csv('Agg_User.csv',index=False)\n",
    "df_Map_Trans.to_csv('Map_Trans.csv',index=False)\n",
    "df_Map_User.to_csv('Map_User.csv',index=False)\n",
    "df_Top_Trans.to_csv('Top_Trans.csv',index=False)\n",
    "df_Top_User.to_csv('Top_User.csv',index=False)"
   ]
  },
  {
   "cell_type": "code",
   "execution_count": null,
   "metadata": {},
   "outputs": [],
   "source": [
    "import mysql.connector "
   ]
  },
  {
   "cell_type": "code",
   "execution_count": null,
   "metadata": {},
   "outputs": [],
   "source": [
    "# making Connection to Mysql\n",
    "mydb = mysql.connector.connect(                            \n",
    "host=\"localhost\",\n",
    "user=\"root\",\n",
    "password=\"Buffin@12345\",\n",
    "database=\"phonepe_pulse\",\n",
    "port=\"3306\"\n",
    ")\n",
    "cursor=mydb.cursor(buffered=True)"
   ]
  },
  {
   "cell_type": "code",
   "execution_count": null,
   "metadata": {},
   "outputs": [],
   "source": [
    "#cursor.execute(\"CREATE DATABASE Phonepe_pulse\")\n",
    "#cursor.execute(\"USE Phonepe_pulse\")"
   ]
  },
  {
   "cell_type": "code",
   "execution_count": null,
   "metadata": {},
   "outputs": [],
   "source": [
    "# Creating agg_trans table\n",
    "cursor.execute('''CREATE TABLE agg_trans(State varchar(100), \n",
    "                                        Year int, \n",
    "                                        Quarter int, \n",
    "                                        Transaction_type varchar(100), \n",
    "                                        Transaction_count int, \n",
    "                                        Transaction_amount double)''')\n",
    "\n",
    "for i,row in df_Agg_Trans.iterrows():\n",
    "    insert_values = \"INSERT INTO agg_trans VALUES (%s,%s,%s,%s,%s,%s)\"\n",
    "    cursor.execute(insert_values, tuple(row))\n",
    "    mydb.commit()"
   ]
  },
  {
   "cell_type": "code",
   "execution_count": null,
   "metadata": {},
   "outputs": [],
   "source": [
    "# Creating agg_user table\n",
    "cursor.execute('''CREATE TABLE agg_user (State varchar(100), \n",
    "                                        Year int,\n",
    "                                        Quarter int, \n",
    "                                        Brands varchar(100), \n",
    "                                        Count int, \n",
    "                                        Percentage double)''')\n",
    "\n",
    "for i,row in df_Agg_User.iterrows():\n",
    "    insert_values = \"INSERT INTO agg_user VALUES (%s,%s,%s,%s,%s,%s)\"\n",
    "    cursor.execute(insert_values, tuple(row))\n",
    "    mydb.commit()"
   ]
  },
  {
   "cell_type": "code",
   "execution_count": null,
   "metadata": {},
   "outputs": [],
   "source": [
    "# Creating map_trans table\n",
    "cursor.execute('''CREATE TABLE map_trans (State varchar(100), \n",
    "                                        Year int,\n",
    "                                        Quarter int,\n",
    "                                        District varchar(100),\n",
    "                                        Count int,\n",
    "                                        Amount double)''')\n",
    "\n",
    "for i,row in df_Map_Trans.iterrows():\n",
    "    insert_values= \"INSERT INTO map_trans VALUES (%s,%s,%s,%s,%s,%s)\"\n",
    "    cursor.execute(insert_values, tuple(row))\n",
    "    mydb.commit()"
   ]
  },
  {
   "cell_type": "code",
   "execution_count": null,
   "metadata": {},
   "outputs": [],
   "source": [
    "# Creating map_user table\n",
    "cursor.execute('''CREATE TABLE map_user (State varchar(100), \n",
    "                                        Year int,\n",
    "                                        Quarter int,\n",
    "                                        District varchar(100),\n",
    "                                        Registered_user int,\n",
    "                                        App_opens int)''')\n",
    "\n",
    "for i,row in df_Map_User.iterrows():\n",
    "    insert_values= \"INSERT INTO map_user VALUES (%s,%s,%s,%s,%s,%s)\"\n",
    "    cursor.execute(insert_values, tuple(row))\n",
    "    mydb.commit()\n"
   ]
  },
  {
   "cell_type": "code",
   "execution_count": null,
   "metadata": {},
   "outputs": [],
   "source": [
    "# Creating top_trans table\n",
    "cursor.execute('''CREATE TABLE top_trans (State varchar(100),\n",
    "                                        Year int, \n",
    "                                        Quarter int, \n",
    "                                        Pincode int, \n",
    "                                        Transaction_count int, \n",
    "                                        Transaction_amount double)''')\n",
    "\n",
    "for i,row in df_Top_Trans.iterrows():\n",
    "    insert_values = \"INSERT INTO top_trans VALUES (%s,%s,%s,%s,%s,%s)\"\n",
    "    cursor.execute(insert_values, tuple(row))\n",
    "    mydb.commit()"
   ]
  },
  {
   "cell_type": "code",
   "execution_count": null,
   "metadata": {},
   "outputs": [],
   "source": [
    "# Creating top_user table\n",
    "cursor.execute('''CREATE TABLE top_user (State varchar(100),\n",
    "                                        Year int, \n",
    "                                        Quarter int, \n",
    "                                        Pincode int, \n",
    "                                        RegisteredUsers int)''')\n",
    "\n",
    "for i,row in df_Top_User.iterrows():\n",
    "    insert_values = \"INSERT INTO top_user VALUES (%s,%s,%s,%s,%s)\"\n",
    "    cursor.execute(insert_values, tuple(row))\n",
    "    mydb.commit()"
   ]
  },
  {
   "cell_type": "code",
   "execution_count": null,
   "metadata": {},
   "outputs": [],
   "source": [
    "# List of tables\n",
    "cursor.execute(\"show tables\")\n",
    "cursor.fetchall()"
   ]
  },
  {
   "cell_type": "code",
   "execution_count": null,
   "metadata": {},
   "outputs": [],
   "source": [
    "import streamlit as st\n",
    "import plotly.express as px\n",
    "import plotly.graph_objects as go\n",
    "from streamlit_option_menu import option_menu\n",
    "from PIL import Image\n",
    "from git.repo.base import Repo"
   ]
  },
  {
   "cell_type": "code",
   "execution_count": null,
   "metadata": {},
   "outputs": [],
   "source": []
  }
 ],
 "metadata": {
  "kernelspec": {
   "display_name": ".venv",
   "language": "python",
   "name": "python3"
  },
  "language_info": {
   "codemirror_mode": {
    "name": "ipython",
    "version": 3
   },
   "file_extension": ".py",
   "mimetype": "text/x-python",
   "name": "python",
   "nbconvert_exporter": "python",
   "pygments_lexer": "ipython3",
   "version": "3.12.0"
  }
 },
 "nbformat": 4,
 "nbformat_minor": 2
}
